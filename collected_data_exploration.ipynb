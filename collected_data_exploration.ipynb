{
 "cells": [
  {
   "cell_type": "code",
   "execution_count": 1,
   "id": "a628eadb",
   "metadata": {},
   "outputs": [],
   "source": [
    "import numpy as np"
   ]
  },
  {
   "cell_type": "code",
   "execution_count": null,
   "id": "0f3ab3e1",
   "metadata": {},
   "outputs": [],
   "source": []
  },
  {
   "cell_type": "code",
   "execution_count": 3,
   "id": "c40c3161",
   "metadata": {},
   "outputs": [],
   "source": [
    "a = np.load('0.npy')"
   ]
  },
  {
   "cell_type": "code",
   "execution_count": 16,
   "id": "2e5e81e1",
   "metadata": {},
   "outputs": [
    {
     "data": {
      "text/plain": [
       "array([6.35488927e-02, 6.68228507e-01, 1.44075620e+00, 1.26106411e-01,\n",
       "       2.62902561e-03, 4.66965854e-01, 1.46617973e+00, 3.17696989e-01,\n",
       "       1.77994557e-03, 6.89522743e-01, 1.84198141e+00, 6.05214000e-01,\n",
       "       2.57679407e-04, 5.02374768e-01, 1.86463273e+00, 7.52096415e-01,\n",
       "       1.41481898e-04, 6.97081923e-01, 1.89588273e+00, 6.35848403e-01,\n",
       "       6.31079252e-04, 5.00088692e-01, 1.91092479e+00, 7.85089850e-01,\n",
       "       5.84030000e-04, 6.82695985e-01, 1.97030711e+00, 2.60813683e-01,\n",
       "       3.80208046e-04, 5.52595139e-01, 2.00430632e+00, 3.51787537e-01,\n",
       "       1.60534051e-04])"
      ]
     },
     "execution_count": 16,
     "metadata": {},
     "output_type": "execute_result"
    }
   ],
   "source": [
    "a[33*3:33*4]"
   ]
  },
  {
   "cell_type": "code",
   "execution_count": 14,
   "id": "15893bac",
   "metadata": {},
   "outputs": [
    {
     "data": {
      "text/plain": [
       "(258,)"
      ]
     },
     "execution_count": 14,
     "metadata": {},
     "output_type": "execute_result"
    }
   ],
   "source": [
    "a.shape"
   ]
  },
  {
   "cell_type": "code",
   "execution_count": 15,
   "id": "3c6045aa",
   "metadata": {},
   "outputs": [
    {
     "data": {
      "text/plain": [
       "258"
      ]
     },
     "execution_count": 15,
     "metadata": {},
     "output_type": "execute_result"
    }
   ],
   "source": [
    "33*4+21*6"
   ]
  },
  {
   "cell_type": "code",
   "execution_count": null,
   "id": "32760237",
   "metadata": {},
   "outputs": [],
   "source": []
  }
 ],
 "metadata": {
  "kernelspec": {
   "display_name": "grad",
   "language": "python",
   "name": "python3"
  },
  "language_info": {
   "codemirror_mode": {
    "name": "ipython",
    "version": 3
   },
   "file_extension": ".py",
   "mimetype": "text/x-python",
   "name": "python",
   "nbconvert_exporter": "python",
   "pygments_lexer": "ipython3",
   "version": "3.8.20"
  }
 },
 "nbformat": 4,
 "nbformat_minor": 5
}
